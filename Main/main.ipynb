{
 "cells": [
  {
   "cell_type": "code",
   "execution_count": 1,
   "metadata": {},
   "outputs": [],
   "source": [
    "videoID = 'hA6hldpSTF8'\n",
    "key = ''\n",
    "number_of_topics = 10\n",
    "passes = 5"
   ]
  },
  {
   "cell_type": "code",
   "execution_count": 2,
   "metadata": {},
   "outputs": [
    {
     "name": "stderr",
     "output_type": "stream",
     "text": [
      "[nltk_data] Downloading package wordnet to\n",
      "[nltk_data]     C:\\Users\\Dell\\AppData\\Roaming\\nltk_data...\n",
      "[nltk_data]   Package wordnet is already up-to-date!\n",
      "[nltk_data] Downloading package punkt to\n",
      "[nltk_data]     C:\\Users\\Dell\\AppData\\Roaming\\nltk_data...\n",
      "[nltk_data]   Package punkt is already up-to-date!\n"
     ]
    },
    {
     "data": {
      "text/plain": [
       "True"
      ]
     },
     "execution_count": 2,
     "metadata": {},
     "output_type": "execute_result"
    }
   ],
   "source": [
    "import pandas as pd \n",
    "import os\n",
    "import googleapiclient.discovery\n",
    "import pickle\n",
    "import re\n",
    "import sklearn\n",
    "from sklearn.feature_extraction.text import TfidfVectorizer\n",
    "from nltk.stem import WordNetLemmatizer\n",
    "from nltk.stem.porter import *\n",
    "from nltk.corpus import stopwords\n",
    "import nltk\n",
    "import gensim\n",
    "nltk.download('wordnet')\n",
    "nltk.download('punkt')"
   ]
  },
  {
   "cell_type": "code",
   "execution_count": 3,
   "metadata": {},
   "outputs": [],
   "source": [
    "def getComments(videoId, nextPageToken = None):\n",
    "    # Disable OAuthlib's HTTPS verification when running locally.\n",
    "    # *DO NOT* leave this option enabled in production.\n",
    "    os.environ[\"OAUTHLIB_INSECURE_TRANSPORT\"] = \"1\"\n",
    "\n",
    "    api_service_name = \"youtube\"\n",
    "    api_version = \"v3\"\n",
    "    DEVELOPER_KEY = key\n",
    "\n",
    "    youtube = googleapiclient.discovery.build(\n",
    "        api_service_name, api_version, developerKey = DEVELOPER_KEY)\n",
    "\n",
    "    request = youtube.commentThreads().list(\n",
    "        part=\"snippet, replies\",\n",
    "        videoId = videoId,\n",
    "        maxResults = 100,\n",
    "        pageToken = nextPageToken\n",
    "    )\n",
    "    response = request.execute()\n",
    "\n",
    "    # # check if all the comments are retrieve\n",
    "    # if 'nextPageToken' in response.keys():\n",
    "    #     response['items'] += getComments(videoID, response['nextPageToken'])['items']\n",
    "    return response"
   ]
  },
  {
   "cell_type": "code",
   "execution_count": 4,
   "metadata": {},
   "outputs": [],
   "source": [
    "commentListResponce = getComments(videoID)"
   ]
  },
  {
   "cell_type": "code",
   "execution_count": 5,
   "metadata": {},
   "outputs": [],
   "source": [
    "# some stats\n",
    "# print('comments count response set:', len(commentListResponce['items']))\n",
    "# print('response keys: ', commentListResponce.keys())"
   ]
  },
  {
   "cell_type": "code",
   "execution_count": 6,
   "metadata": {},
   "outputs": [],
   "source": [
    "# get all comments\n",
    "comments = [comment['snippet']['topLevelComment']['snippet']['textOriginal'] for comment in commentListResponce['items']]\n",
    "\n",
    "# comments"
   ]
  },
  {
   "cell_type": "code",
   "execution_count": null,
   "metadata": {},
   "outputs": [],
   "source": []
  },
  {
   "cell_type": "code",
   "execution_count": 7,
   "metadata": {},
   "outputs": [],
   "source": [
    "model_file = 'finalized_spam_model.sav'\n",
    "vec_file = 'vectorizer.sav'\n",
    "spam_model = pickle.load(open(model_file,'rb'))\n",
    "vect = pickle.load(open(vec_file,'rb'))"
   ]
  },
  {
   "cell_type": "code",
   "execution_count": 8,
   "metadata": {},
   "outputs": [],
   "source": [
    "\n",
    "# data.head(7)"
   ]
  },
  {
   "cell_type": "code",
   "execution_count": 9,
   "metadata": {},
   "outputs": [],
   "source": [
    "data = pd.DataFrame(comments,columns=['comments'])\n",
    "small_comments = []\n",
    "\n",
    "for i in range(len(data['comments'])):\n",
    "    comment = \" \".join(re.findall(\"[a-zA-Z]+\", data['comments'][i]))\n",
    "    if (len(nltk.word_tokenize(comment))<3):\n",
    "        small_comments.append(i)\n",
    "\n",
    "data.drop(small_comments, inplace=True)\n",
    "\n",
    "for index in sorted(small_comments, reverse=True):\n",
    "    del comments[index]\n",
    "    \n",
    "data.reset_index(drop=True, inplace=True)\n",
    "# data.head(10)  "
   ]
  },
  {
   "cell_type": "code",
   "execution_count": 10,
   "metadata": {},
   "outputs": [],
   "source": [
    "comments_vec = vect.transform(data['comments'])"
   ]
  },
  {
   "cell_type": "code",
   "execution_count": 11,
   "metadata": {},
   "outputs": [],
   "source": [
    "spam_predictions = spam_model.predict(comments_vec)\n",
    "# spam_predictions"
   ]
  },
  {
   "cell_type": "code",
   "execution_count": 12,
   "metadata": {},
   "outputs": [],
   "source": [
    "filtered = []\n",
    "for i in range(len(spam_predictions)):\n",
    "    if (spam_predictions[i] == 0) and (len(data['comments'][i]) != 0):\n",
    "        filtered.append(data['comments'][i])\n",
    "filtered_data = pd.DataFrame(filtered,columns=['comments'])   \n",
    "# filtered_data"
   ]
  },
  {
   "cell_type": "code",
   "execution_count": 13,
   "metadata": {},
   "outputs": [],
   "source": [
    "stemmer = PorterStemmer()\n",
    "lemmatizer = WordNetLemmatizer()\n",
    "\n",
    "def preprocess(text):\n",
    "    t = \" \".join(re.findall(\"[a-zA-Z]+\", text))\n",
    "    t = t.split(\" \")\n",
    "    result = []\n",
    "    for token in t:\n",
    "        token = token.strip('.?,!<>:;[]{}!-\"')\n",
    "        if token not in stopwords.words('english') and len(token) >= 3:\n",
    "            result.append(stemmer.stem(lemmatizer.lemmatize(token, pos='v')))\n",
    "    return result"
   ]
  },
  {
   "cell_type": "code",
   "execution_count": 14,
   "metadata": {},
   "outputs": [],
   "source": [
    "filtered_data['processed'] = filtered_data.apply(lambda row: preprocess(row['comments']),axis=1)\n",
    "# filtered_data"
   ]
  },
  {
   "cell_type": "code",
   "execution_count": 15,
   "metadata": {},
   "outputs": [],
   "source": [
    "df = pd.DataFrame()\n",
    "df['text'] = filtered_data['processed']\n",
    "df = df[df['text'].map(lambda x: len(x)) > 0]\n",
    "# df"
   ]
  },
  {
   "cell_type": "code",
   "execution_count": 16,
   "metadata": {},
   "outputs": [],
   "source": [
    "dictionary = gensim.corpora.Dictionary(df['text'])\n",
    "bag_of_words = [dictionary.doc2bow(x) for x in df['text']]\n",
    "tfidf = gensim.models.TfidfModel(bag_of_words)\n",
    "tfidf_corpus = tfidf[bag_of_words]\n",
    "lda_model_tfidf = gensim.models.LdaMulticore(tfidf_corpus,num_topics = number_of_topics, id2word = dictionary, passes=passes, workers = 2)\n",
    "# lda_model_tfidf.print_topics()"
   ]
  },
  {
   "cell_type": "code",
   "execution_count": 17,
   "metadata": {},
   "outputs": [],
   "source": [
    "df['bow'] = df.apply(lambda x: dictionary.doc2bow(x['text']), axis =1)\n",
    "df['topic_scores'] = df.apply(lambda x: lda_model_tfidf[x['bow']],axis=1)\n",
    "# df"
   ]
  },
  {
   "cell_type": "code",
   "execution_count": 18,
   "metadata": {},
   "outputs": [],
   "source": [
    "def get_topic(L):\n",
    "    return max(L, key=lambda lis: lis[1])\n",
    "df['topic'] = df.apply(lambda x: get_topic(x['topic_scores'])[0],axis=1)\n",
    "# df"
   ]
  },
  {
   "cell_type": "code",
   "execution_count": 19,
   "metadata": {},
   "outputs": [],
   "source": [
    "final = pd.DataFrame()\n",
    "final['comments'],final['processed'],final['topic'] = filtered_data['comments'],filtered_data['processed'],df['topic']\n",
    "# final"
   ]
  },
  {
   "cell_type": "code",
   "execution_count": 20,
   "metadata": {
    "scrolled": true
   },
   "outputs": [],
   "source": [
    "# final = final.sort_values(by='topic')\n",
    "# final"
   ]
  },
  {
   "cell_type": "code",
   "execution_count": 21,
   "metadata": {},
   "outputs": [
    {
     "data": {
      "text/plain": [
       "{0: ['I remembered that day I know man .',\n",
       "  'Recalling my emotions when I watched this trailer for the first time .😣😣😯😢',\n",
       "  \"The 51k dislikes are from thanos' army\",\n",
       "  \"I can't believe it's been over a year since an MCU movie has hit theaters....\",\n",
       "  'No one \\n\\nYoutube recommendations:',\n",
       "  'The biggest mistake of last year.....\\n\\n\\n\\n\\n\\n\\n\\n\\n\\n\\n\\n\\n\\n\\n\\n\\n\\n\\n\\n\\n\\n\\n\\n\\n\\n\\n\\n\\nNot watching this in IMAX',\n",
       "  'once in a lifetime experience',\n",
       "  'Remember when everyone was trying to guess the name'],\n",
       " 1: ['Love the beginning when tony is in space. I kinda wish we could have followed that story for longer instead of throwing captain marvel in there and immediately bringing him back to earth.',\n",
       "  'We should be proud to live in this generation',\n",
       "  'Who else remembers the \"can you buzz me in\" meme?',\n",
       "  'three days grace',\n",
       "  'A lot of people didn’t like the fact that there was only one big fight scene. I loved it and could watch it over and over all day',\n",
       "  \"20-30 years later\\nOur Kids: Dad, what are the Avengers?\\n.\\n.\\n.\\nMe: Now thats a name I haven't heard for a long time.\",\n",
       "  \"Once in a lifetime hype. It'll never be the same without Iron Man, Captain America (Chris Evans), Black Widow, or the KING 😔\",\n",
       "  'Why am I excited for a movie I’ve already seen several times lol.'],\n",
       " 2: ['Wait, this was uploaded in 2018?!!',\n",
       "  'X men is better',\n",
       "  'We lost all of us, we lost Black Widow, we lost Iron Man, we lost Chadwick Bosman, 2020 covid is the fight of our lives!',\n",
       "  'Look, I don’t want to bring bad vibes.. but this movie let me down.',\n",
       "  'who else just wished they could go back to the time on where they watched endgame and infinity war? those were some good times i had before the corona virus came down on us.',\n",
       "  'Its October 2020 and no marvel movie',\n",
       "  \"I've never seen a marvel film, but it looks like a bunch of middle-aged facebook friends are coming together to defeat the forces of gannon.\"],\n",
       " 3: ['The avengers logo theme they used in the movie was great (half the choir missing was a great touch) but this version is SO much better',\n",
       "  'Infinity war has more views than both endgame trailers if added also',\n",
       "  'I remember how i watched this movie in theaters and the people were so hyped and screaming',\n",
       "  'I got goosebumps watching this again and again'],\n",
       " 4: ['I am so grateful that this movie came out before the lockdown. It was a very unique experience to watch it, unspoiled in a movie theater. Everyone in the theater was silent and eyes glued to the big screen. And that portals scene... Man I miss those days...',\n",
       "  'Can you believe this is almost 2 years ago? Damm i miss the hype for this movie..',\n",
       "  'I miss these type of marvel movies. Sad were never gonna experience hype like this again',\n",
       "  'The hype for this movie will forever be unmatched',\n",
       "  'The hype of the Infinity War + Endgame years was so awesome. \\n\\nSigh, I miss getting excited for a new Avengers film.',\n",
       "  'I just noticed now how they made it look like Natasha still have short yellow hair at 2:10.\\nJust like how they edited Hulk in the Infinity War trailer lol',\n",
       "  \"it wasn't a movie, it was an EVENT. i miss cinema so much💔\",\n",
       "  'I miss him 😩😩😞😞😞😞😞',\n",
       "  'I miss those OG days when we were all so hyped for Endgame 😞',\n",
       "  'Why are there 2 trailers ?',\n",
       "  'reliving the hype of endgame :(',\n",
       "  \"I think i was the only who didn't watch infinity war before this trailer\",\n",
       "  'Avengers: Endgame will always be remembered as the greatest Marvel Cinematic Universe film of all time.'],\n",
       " 5: ['I was sitting in my pre-calc class when this came out',\n",
       "  \"Isn't it how fast time passes?\",\n",
       "  'Trailer Of Century',\n",
       "  'Covid = Thanos \\n\\nThis trailer = our position in life rn',\n",
       "  'The Avengers fill never be forgotten ♾♾',\n",
       "  '\"This thing on?\"'],\n",
       " 6: ['september earth wind and fire',\n",
       "  'The fact that YouTube keep recommending me this such a honor to be MCU fans. Thanks you YouTube.. ❤️',\n",
       "  'Still gives me chills',\n",
       "  'anyone else still watch this trailer because of how entertaining they are even though it’s been over a year and a half',\n",
       "  'How did this trailer not get more views than infinity war trailer',\n",
       "  'Those who disliked the video are dc fans',\n",
       "  'still now, when i watch this i get that goosebumps and tears in my eyes :(',\n",
       "  'I’m still watching!💪🏽💪🏽',\n",
       "  'Watching this during the covid pandemic hits differently'],\n",
       " 7: ['I remember going to see it midnight screening I was at the edge of my seat the whole time....Take me back man😩',\n",
       "  '‘Part of the journey is the end’\\nThey weren’t lying🙃',\n",
       "  '🤍 a part of journey is the end',\n",
       "  'will vision and scarlet be together in this movie plzzzzz awnser',\n",
       "  'my teacher shared his screen and show this to us LOL',\n",
       "  'dora the explorer',\n",
       "  'Imagine this trailer like the trailer of the year 2021',\n",
       "  'Thanos was a bit underpowered in these two movies :(',\n",
       "  'Rip chat with Bozeman/black panther😢🙏🐆',\n",
       "  'Captain America and Black Widow look great'],\n",
       " 8: ['Compared to this back to the future IS a bunch of bullshit',\n",
       "  'i just realised the name of the trailer was just “marvel studios avengers” and not “endgame”',\n",
       "  'I like all your acthers, they are very nice, all your acthers are beautiful people with more talants in they souls.',\n",
       "  'Melhor filme da era, do século e dos vingadores',\n",
       "  \"I love the music when it shows Thanos' armour on his farm. Beautiful.\",\n",
       "  'I remember exactly where I was when this trailer came out'],\n",
       " 9: ['Old was the first time in a average mArvl the average endgame',\n",
       "  \"So glad this movie wasn't suppose to come out 2020.\",\n",
       "  'Okay, but this is like, the most I have ever wanted to forget something just to relive it again.',\n",
       "  'A brilliant movie from anticipation and hype beyond most films, yet I think it could have been darker via the atmosphere of the trailers alone']}"
      ]
     },
     "execution_count": 21,
     "metadata": {},
     "output_type": "execute_result"
    }
   ],
   "source": [
    "DIC = {}\n",
    "DIC_topics = {}\n",
    "\n",
    "\n",
    "\n",
    "for i in range(number_of_topics):\n",
    "#     txt = ' \\n--------------------------------------------------\\n '.join(final[final['topic'] == i]['comments'])\n",
    "    txt_topics = ' '.join(final[final['topic'] == i]['comments'])\n",
    "    DIC[i] = []\n",
    "    DIC_topics[i] = txt_topics\n",
    "# DIC_topics\n",
    "\n",
    "for i in range(len(final['comments'])):\n",
    "    DIC[final['topic'][i]].append(final['comments'][i])\n",
    "DIC"
   ]
  },
  {
   "cell_type": "code",
   "execution_count": 22,
   "metadata": {},
   "outputs": [],
   "source": [
    "#filtering for keyword extraction\n",
    "for i in DIC_topics.keys():\n",
    "    DIC_topics[i] = \" \".join(re.findall(\"[a-zA-Z]+\", DIC_topics[i]))\n",
    "# DIC_topics    "
   ]
  },
  {
   "cell_type": "code",
   "execution_count": 23,
   "metadata": {},
   "outputs": [
    {
     "data": {
      "text/plain": [
       "{0: ['man', 'experience', 'thanos'],\n",
       " 1: ['captain', 'time', 'times', 'fight', 'day years', 'days', 'black'],\n",
       " 2: ['lost', 'virus', 'bad', 'look', 'looks', 'facebook', 'movie'],\n",
       " 3: ['great', 'goosebumps', 'infinity'],\n",
       " 4: ['movie',\n",
       "  'trailer',\n",
       "  'trailers',\n",
       "  'marvel movies',\n",
       "  'avengers',\n",
       "  'like',\n",
       "  'experience',\n",
       "  'yellow',\n",
       "  'scene',\n",
       "  'war'],\n",
       " 5: ['calc', 'covid'],\n",
       " 6: ['fans', 'earth'],\n",
       " 7: ['black', 'rip', 'movie plzzzzz', 'movies', 'look'],\n",
       " 8: ['beautiful', 'studios', 'melhor'],\n",
       " 9: ['movie']}"
      ]
     },
     "execution_count": 23,
     "metadata": {},
     "output_type": "execute_result"
    }
   ],
   "source": [
    "from gensim.summarization import keywords\n",
    "for i in DIC_topics.keys():\n",
    "    DIC_topics[i] = keywords(DIC_topics[i]).splitlines()\n",
    "    if len(DIC_topics[i]) == 0:\n",
    "        DIC_topics[i] = ['Others']\n",
    "        \n",
    "DIC_topics        "
   ]
  },
  {
   "cell_type": "code",
   "execution_count": null,
   "metadata": {},
   "outputs": [],
   "source": []
  }
 ],
 "metadata": {
  "kernelspec": {
   "display_name": "Python 3",
   "language": "python",
   "name": "python3"
  },
  "language_info": {
   "codemirror_mode": {
    "name": "ipython",
    "version": 3
   },
   "file_extension": ".py",
   "mimetype": "text/x-python",
   "name": "python",
   "nbconvert_exporter": "python",
   "pygments_lexer": "ipython3",
   "version": "3.8.5"
  }
 },
 "nbformat": 4,
 "nbformat_minor": 4
}
